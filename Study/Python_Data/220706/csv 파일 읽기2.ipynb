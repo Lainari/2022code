{
 "cells": [
  {
   "cell_type": "code",
   "execution_count": null,
   "metadata": {},
   "outputs": [],
   "source": [
    "# Excel 파일 불러오기\n",
    "\n",
    "import pandas as pd\n",
    "\n",
    "file_path = 'C:\\\\data\\\\bicycle.xlsx'\n",
    "df2 = pd.read_excel(file_path,engine='python',encoding='cp949')\n",
    "\n",
    "print(df2)"
   ]
  }
 ],
 "metadata": {
  "language_info": {
   "name": "python"
  },
  "orig_nbformat": 4
 },
 "nbformat": 4,
 "nbformat_minor": 2
}
