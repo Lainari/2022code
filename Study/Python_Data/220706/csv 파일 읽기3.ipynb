{
 "cells": [
  {
   "cell_type": "code",
   "execution_count": 1,
   "metadata": {},
   "outputs": [
    {
     "name": "stdout",
     "output_type": "stream",
     "text": [
      "                                     employees\n",
      "0         {'name': 'Surim', 'lastName': 'Son'}\n",
      "1       {'name': 'Someone', 'lastName': 'Huh'}\n",
      "2  {'name': 'Someone else', 'lastName': 'Kim'}\n"
     ]
    }
   ],
   "source": [
    "import pandas as pd\n",
    "file_path = 'read.json'\n",
    "df3 = pd.read_json(file_path)\n",
    "\n",
    "print(df3)"
   ]
  }
 ],
 "metadata": {
  "kernelspec": {
   "display_name": "Python 3.10.2 64-bit",
   "language": "python",
   "name": "python3"
  },
  "language_info": {
   "codemirror_mode": {
    "name": "ipython",
    "version": 3
   },
   "file_extension": ".py",
   "mimetype": "text/x-python",
   "name": "python",
   "nbconvert_exporter": "python",
   "pygments_lexer": "ipython3",
   "version": "3.10.2"
  },
  "orig_nbformat": 4,
  "vscode": {
   "interpreter": {
    "hash": "fb4569285eef3a3450cb62085a5b1e0da4bce0af555edc33dcf29baf3acc1368"
   }
  }
 },
 "nbformat": 4,
 "nbformat_minor": 2
}
